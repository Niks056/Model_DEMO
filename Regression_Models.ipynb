{
 "cells": [
  {
   "cell_type": "code",
   "execution_count": 1,
   "metadata": {},
   "outputs": [],
   "source": [
    "# Importing the libraries\n",
    "import numpy as np\n",
    "import matplotlib.pyplot as plt\n",
    "import pandas as pd\n",
    "from sklearn.preprocessing import StandardScaler\n",
    "from sklearn.model_selection import train_test_split\n",
    "from sklearn.metrics import confusion_matrix,accuracy_score,classification_report"
   ]
  },
  {
   "cell_type": "code",
   "execution_count": null,
   "metadata": {},
   "outputs": [],
   "source": [
    "# Importing the dataset\n",
    "dataset = pd.read_csv('Social_Network_Ads.csv')\n",
    "X = dataset.iloc[:, [2, 3]].values\n",
    "y = dataset.iloc[:, 4].values"
   ]
  },
  {
   "cell_type": "code",
   "execution_count": null,
   "metadata": {},
   "outputs": [],
   "source": [
    "# Splitting the dataset into the Training set and Test set\n",
    "X_train, X_test, y_train, y_test = train_test_split(X, y, test_size = 0.25, random_state = 0)"
   ]
  },
  {
   "cell_type": "markdown",
   "metadata": {},
   "source": [
    "## Linear Regression"
   ]
  },
  {
   "cell_type": "code",
   "execution_count": null,
   "metadata": {},
   "outputs": [],
   "source": [
    "from sklearn.linear_model import LinearRegression\n",
    "def linear_regression(X,y):\n",
    "    regressor = LinearRegression()\n",
    "    regressor.fit(X_train, y_train)\n",
    "    return regressor\n",
    "classifier=linear_regression(X_train,y_train)"
   ]
  },
  {
   "cell_type": "markdown",
   "metadata": {},
   "source": [
    "## Polynomial Features"
   ]
  },
  {
   "cell_type": "code",
   "execution_count": null,
   "metadata": {},
   "outputs": [],
   "source": [
    "from sklearn.preprocessing import PolynomialFeatures\n",
    "def poly_nominal(X,y):\n",
    "    poly_reg = PolynomialFeatures(degree = 4)\n",
    "    X_poly = poly_reg.fit_transform(X)\n",
    "    poly_reg.fit(X_poly, y)\n",
    "    return poly_reg\n",
    "classifier=poly_nominal(X_train,y_train)"
   ]
  },
  {
   "cell_type": "markdown",
   "metadata": {},
   "source": [
    "## SVR"
   ]
  },
  {
   "cell_type": "code",
   "execution_count": null,
   "metadata": {},
   "outputs": [],
   "source": [
    "from sklearn.svm import SVR\n",
    "def SVR(X,y):\n",
    "    regressor = SVR(kernel = 'rbf')\n",
    "    regressor.fit(X, y)\n",
    "    return regressor\n",
    "classifier=SVR(X_train,y_train)"
   ]
  },
  {
   "cell_type": "markdown",
   "metadata": {},
   "source": [
    "## Decision Tree Regressor"
   ]
  },
  {
   "cell_type": "code",
   "execution_count": null,
   "metadata": {},
   "outputs": [],
   "source": [
    "from sklearn.tree import DecisionTreeRegressor\n",
    "def decision_tree(X,y):\n",
    "    regressor = DecisionTreeRegressor(random_state = 0)\n",
    "    regressor.fit(X, y)\n",
    "    return regressor\n",
    "classifier=decision_tree(X_train,y_train)"
   ]
  },
  {
   "cell_type": "markdown",
   "metadata": {},
   "source": [
    "## Random Forest Regression"
   ]
  },
  {
   "cell_type": "code",
   "execution_count": null,
   "metadata": {},
   "outputs": [],
   "source": [
    "from sklearn.ensemble import RandomForestRegressor\n",
    "\n",
    "def randomforest_regressor(X,y):\n",
    "# create regressor object\n",
    "    regressor = RandomForestRegressor(n_estimators = 100, random_state = 0)\n",
    "    # fit the regressor with x and y data\n",
    "    regressor.fit(X, y)\n",
    "    return regressor\n",
    "regressor=randomforest_regressor(X_train,y_train)"
   ]
  },
  {
   "cell_type": "markdown",
   "metadata": {},
   "source": [
    "## Ada Boost Regressor"
   ]
  },
  {
   "cell_type": "code",
   "execution_count": null,
   "metadata": {},
   "outputs": [],
   "source": [
    "from sklearn.ensemble import AdaBoostRegressor\n",
    "\n",
    "def adaboost_regressor(X, y):\n",
    "    regr = AdaBoostRegressor(random_state=0, n_estimators=100)\n",
    "    regr.fit(X, y)\n",
    "    return regr\n",
    "regressor=catboost_regressor(X_train,y_train)       "
   ]
  },
  {
   "cell_type": "markdown",
   "metadata": {},
   "source": [
    "## LGBM Regressor"
   ]
  },
  {
   "cell_type": "code",
   "execution_count": null,
   "metadata": {},
   "outputs": [],
   "source": [
    "import lightgbm as lgb\n",
    "\n",
    "def lgbm_regressor(X,y):\n",
    "    regressor=lgb.LGBMRegressor()\n",
    "    regressor.fit(X,y)\n",
    "    return regressor\n",
    "regressor=lgbm_regressor(X_train,y_train)"
   ]
  },
  {
   "cell_type": "markdown",
   "metadata": {},
   "source": [
    "## Gradient Boost Regressor"
   ]
  },
  {
   "cell_type": "code",
   "execution_count": null,
   "metadata": {},
   "outputs": [],
   "source": [
    "from sklearn.ensemble import GradientBoostingRegressor\n",
    "def gradient_boost_regressor(X_train, y_train):\n",
    "    reg = GradientBoostingRegressor(random_state=0)\n",
    "    reg.fit(X_train, y_train)\n",
    "     return reg\n",
    "regressor=gradient_boost_regressor(X_train,y_train)   "
   ]
  },
  {
   "cell_type": "markdown",
   "metadata": {},
   "source": [
    "## Cat Boost Regressor"
   ]
  },
  {
   "cell_type": "code",
   "execution_count": null,
   "metadata": {},
   "outputs": [],
   "source": [
    "from catboost import CatBoostRegressor\n",
    "\n",
    "def catboost_regressor(X_train,y_train,X_test,y_test):\n",
    "    cat_model = CatBoostRegressor(loss_function='RMSE’)\n",
    "    cat_model.fit( X_train, y_train,eval_set=(X_test, y_test),plot=True)\n",
    "    return cat_model\n",
    "\n",
    "regressor=catboost_regressor(X_train,y_train,X_test,y_test)   "
   ]
  },
  {
   "cell_type": "code",
   "execution_count": null,
   "metadata": {},
   "outputs": [],
   "source": [
    "from sklearn.metrics import mean_squared_error\n",
    "from sklearn.metrics import mean_absolute_error\n",
    "from sklearn.metrics import mean_absolute_percentage_error\n",
    "from sklearn.metrics import r2_score\n",
    "\n",
    "def model_metrics(classifier,X_test,y_test):\n",
    "    \n",
    "    # Predicting the Test set results\n",
    "    y_pred = classifier.predict(X_test)\n",
    "    \n",
    "    #Mean Squared Error\n",
    "    print(mean_squared_error(Y_test, Y_predicted))\n",
    "    \n",
    "    #Mean Absolute Error\n",
    "    print(mean_absolute_error(Y_test, Y_predicted))\n",
    "    \n",
    "    #Mean Abosulte Percentage Error\n",
    "    print(mean_absolute_percentage_error(Y_test,Y_predicted))\n",
    "    \n",
    "    # R2 Square\n",
    "    r_sqr=r2_score(Y_test, Y_predicted)\n",
    "    print(\"R_Squared\",r_sqr)\n",
    "    \n",
    "    #adjusted_r_square\n",
    "    N=len(Y_test)\n",
    "    k=len(X_test.columns)\n",
    "    print((1-r_sqr)*(N-1)/(N-K-1))\n"
   ]
  }
 ],
 "metadata": {
  "kernelspec": {
   "display_name": "Python 3",
   "language": "python",
   "name": "python3"
  },
  "language_info": {
   "codemirror_mode": {
    "name": "ipython",
    "version": 3
   },
   "file_extension": ".py",
   "mimetype": "text/x-python",
   "name": "python",
   "nbconvert_exporter": "python",
   "pygments_lexer": "ipython3",
   "version": "3.7.6"
  }
 },
 "nbformat": 4,
 "nbformat_minor": 4
}
