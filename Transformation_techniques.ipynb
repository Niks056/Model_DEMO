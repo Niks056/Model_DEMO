{
 "cells": [
  {
   "cell_type": "code",
   "execution_count": null,
   "metadata": {},
   "outputs": [],
   "source": [
    "import pandas as pd"
   ]
  },
  {
   "cell_type": "code",
   "execution_count": null,
   "metadata": {},
   "outputs": [],
   "source": [
    "data=pd.read_csv(\"Social_Network_Ads.csv\")"
   ]
  },
  {
   "cell_type": "code",
   "execution_count": null,
   "metadata": {},
   "outputs": [],
   "source": [
    "def transform_data(feature_transformer):\n",
    "    columns_to_transform= list(data.select_dtypes(exclude=[\"object\",\"datetime64\"]).columns)\n",
    "    transformed_array = feature_transformer.fit_transform(data.loc[:,columns_to_transform])\n",
    "    df_transfomed = pd.DataFrame(transformed_array,columns=data.select_dtypes(exclude=[\"object\"]).columns)\n",
    "    df_transfomed.loc[:,columns_to_transform] = feature_transformer.fit_transform(df_transfomed.loc[:,columns_to_transform])\n",
    "    return df_transfomed"
   ]
  },
  {
   "cell_type": "markdown",
   "metadata": {},
   "source": [
    "## Quantile Transformer\n",
    "Quantile Transformation is a non-parametric data transformation technique to transform your numerical data distribution to following a certain data distribution (often the Gaussian Distribution (Normal Distribution)). In the Scikit-Learn, the Quantile Transformer can transform the data into Normal distribution or Uniform distribution; it depends on your distribution references."
   ]
  },
  {
   "cell_type": "code",
   "execution_count": null,
   "metadata": {},
   "outputs": [],
   "source": [
    "from sklearn.preprocessing import QuantileTransformer\n",
    "transformer = QuantileTransformer()\n",
    "df_transfomed=transform_data(transformer)\n",
    "df_transfomed.head()"
   ]
  },
  {
   "cell_type": "markdown",
   "metadata": {},
   "source": [
    "## Power Transformer\n",
    "While Quantile Transformer is a non-parametric transformer applying Quantile Function, Power Transformer is a parametric transformer via power function. Like the Quantile Transformer, Power Transformer is often used to transform data to follow the Normal Distribution.\n",
    "\n",
    "From Scikit-Learn, two methods are given within the Power Transformer class: Yeo-Johnson transform, and Box-Cox transforms. The basic difference between the methods is the data they allowed to be transformed — Box-Cox needs the data to be positive, while Yeo-Johnson allowed the data to be both negative and positive.\n"
   ]
  },
  {
   "cell_type": "code",
   "execution_count": null,
   "metadata": {},
   "outputs": [],
   "source": [
    "from sklearn.preprocessing import PowerTransformer\n",
    "transformer = PowerTransformer(method = 'yeo-johnson')\n",
    "'''\n",
    "parameters:\n",
    "method = 'box-cox' or 'yeo-johnson'\n",
    "'''\n",
    "\n",
    "df_transfomed=transform_data(transformer)\n",
    "df_transfomed.head()"
   ]
  },
  {
   "cell_type": "markdown",
   "metadata": {},
   "source": [
    "## Function Transformer\n",
    "Scikit-Learn has provided us many transformation methods that we could use for the data preprocessing pipeline. However, we want to apply our own function for data transformation, but Scikit-Learn did not offer it. That is why Scikit-Learn also presents the Function Transformers class to develop their own data transformation function.\n",
    "\n",
    "1. Exponential Transformation\n",
    "2. Log Transformation\n",
    "3. Square root Transformation\n",
    "4. Reciprocal Transformation "
   ]
  },
  {
   "cell_type": "code",
   "execution_count": null,
   "metadata": {},
   "outputs": [],
   "source": [
    "import numpy as np\n",
    "from sklearn.preprocessing import FunctionTransformer\n",
    "transformer = FunctionTransformer(np.log2, validate = True)\n",
    "# transformer = FunctionTransformer(np.log, validate = True)\n",
    "# transformer = FunctionTransformer(np.sqrt, validate = True)\n",
    "# transformer = FunctionTransformer(np.reciprocal, validate = True)\n",
    "df_transfomed=scale_data(transformer)\n",
    "df_transfomed.head()"
   ]
  },
  {
   "cell_type": "markdown",
   "metadata": {},
   "source": [
    "## K-Bins Discretizations\n",
    "Discretization is a process of transforming the continuous feature into a categorical feature by partitioning it into several bins within the expected value range (intervals)\n"
   ]
  },
  {
   "cell_type": "code",
   "execution_count": null,
   "metadata": {},
   "outputs": [],
   "source": [
    "from sklearn.preprocessing import KBinsDiscretizer\n",
    "\n",
    "transformer = KBinsDiscretizer(n_bins = 5, encode = 'ordinal', strategy='quantile')\n",
    "df_transfomed=transform_data(transformer)\n",
    "df_transfomed.head()"
   ]
  },
  {
   "cell_type": "markdown",
   "metadata": {},
   "source": [
    "## Feature Binarization\n",
    "Feature Binarization is a simple discretization process using a certain threshold to transform the continuous feature into a categorical feature. The value results from Feature Binarization is Boolean value — True or False (0 or 1). Let’s try to use the Binarization class from Scikit-Learn to understand the concept.\n"
   ]
  },
  {
   "cell_type": "code",
   "execution_count": null,
   "metadata": {},
   "outputs": [],
   "source": [
    "from sklearn.preprocessing import Binarizer\n",
    "\n",
    "#Setting the threshold to 20\n",
    "transformer = Binarizer( threshold = 20)\n",
    "df_transfomed=transform_data(transformer)\n",
    "df_transfomed.head()"
   ]
  }
 ],
 "metadata": {
  "kernelspec": {
   "display_name": "Python 3",
   "language": "python",
   "name": "python3"
  },
  "language_info": {
   "codemirror_mode": {
    "name": "ipython",
    "version": 3
   },
   "file_extension": ".py",
   "mimetype": "text/x-python",
   "name": "python",
   "nbconvert_exporter": "python",
   "pygments_lexer": "ipython3",
   "version": "3.7.6"
  }
 },
 "nbformat": 4,
 "nbformat_minor": 4
}
